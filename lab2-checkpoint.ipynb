{
 "cells": [
  {
   "cell_type": "markdown",
   "metadata": {
    "slideshow": {
     "slide_type": "slide"
    }
   },
   "source": [
    "# CSIT 356: Lab 2: Numpy and Pandas\n",
    "## Mohammed Al-Shalchy\n"
   ]
  },
  {
   "cell_type": "markdown",
   "metadata": {
    "slideshow": {
     "slide_type": "slide"
    }
   },
   "source": [
    "### Instruction\n",
    "The file name is data.csv. It contains the information of all municipalities in New Jersery. The meaning of each colunmn is as follows:\n",
    "\n",
    "* Municipality: the name of the municipality \n",
    "* County: the county that the municipality belongs to \n",
    "* POP2010: the population of a municipality in 2010 \n",
    "* POP2017: the population of a municipality in 2017 \n",
    "* MunicipalType: the type of a municipality\n",
    "\n",
    "In this assignment, please use the functions and operations in pandas to answer the following questions. \n",
    "\n",
    "\n",
    "#### About submission\n",
    "This assignment is due at 11:59 pm on Oct. 2nd. You need to finish all questions of both In-class exercise and homework. Name your ipynb file as StudentName_lab2.ipynb and submit it on Canvas.\n",
    "\n",
    "PLEASE ENSURE THAT THE SCRIPT CAN CORRECTLY EXECUTE!!!"
   ]
  },
  {
   "cell_type": "code",
   "execution_count": 1,
   "metadata": {
    "slideshow": {
     "slide_type": "slide"
    }
   },
   "outputs": [],
   "source": [
    "# import pandas\n",
    "# Don't delete this cell\n",
    "\n",
    "import pandas as pd"
   ]
  },
  {
   "cell_type": "markdown",
   "metadata": {
    "slideshow": {
     "slide_type": "slide"
    }
   },
   "source": [
    "## In-class Exercise"
   ]
  },
  {
   "cell_type": "markdown",
   "metadata": {
    "slideshow": {
     "slide_type": "slide"
    }
   },
   "source": [
    "## Exercise 0 \n",
    "Read the file data.csv as a dataFrame named **df**. Assign the column 'Municipal' as the row index.   \n",
    "  \n",
    "#### Note  \n",
    "1. Use **read_csv** to read the file to be a dataFrame\n",
    "2. Set the argument **index_col** to be the name of the first column\n",
    "3. Set the argument **thousands** to be ',' since there are thousand separators in the file"
   ]
  },
  {
   "cell_type": "code",
   "execution_count": 3,
   "metadata": {
    "slideshow": {
     "slide_type": "fragment"
    }
   },
   "outputs": [
    {
     "data": {
      "text/html": [
       "<div>\n",
       "<style scoped>\n",
       "    .dataframe tbody tr th:only-of-type {\n",
       "        vertical-align: middle;\n",
       "    }\n",
       "\n",
       "    .dataframe tbody tr th {\n",
       "        vertical-align: top;\n",
       "    }\n",
       "\n",
       "    .dataframe thead th {\n",
       "        text-align: right;\n",
       "    }\n",
       "</style>\n",
       "<table border=\"1\" class=\"dataframe\">\n",
       "  <thead>\n",
       "    <tr style=\"text-align: right;\">\n",
       "      <th></th>\n",
       "      <th>County</th>\n",
       "      <th>POP2010</th>\n",
       "      <th>POP2017</th>\n",
       "      <th>MunicipalType</th>\n",
       "    </tr>\n",
       "    <tr>\n",
       "      <th>Municipality</th>\n",
       "      <th></th>\n",
       "      <th></th>\n",
       "      <th></th>\n",
       "      <th></th>\n",
       "    </tr>\n",
       "  </thead>\n",
       "  <tbody>\n",
       "    <tr>\n",
       "      <td>Aberdeen</td>\n",
       "      <td>Monmouth</td>\n",
       "      <td>18157</td>\n",
       "      <td>18232</td>\n",
       "      <td>Township</td>\n",
       "    </tr>\n",
       "    <tr>\n",
       "      <td>Absecon</td>\n",
       "      <td>Atlantic</td>\n",
       "      <td>8411</td>\n",
       "      <td>8283</td>\n",
       "      <td>City</td>\n",
       "    </tr>\n",
       "    <tr>\n",
       "      <td>Alexandria Township</td>\n",
       "      <td>Hunterdon</td>\n",
       "      <td>4938</td>\n",
       "      <td>4805</td>\n",
       "      <td>Township</td>\n",
       "    </tr>\n",
       "    <tr>\n",
       "      <td>Allamuchy</td>\n",
       "      <td>Warren</td>\n",
       "      <td>4323</td>\n",
       "      <td>4644</td>\n",
       "      <td>Township</td>\n",
       "    </tr>\n",
       "    <tr>\n",
       "      <td>Allendale</td>\n",
       "      <td>Bergen</td>\n",
       "      <td>6505</td>\n",
       "      <td>6906</td>\n",
       "      <td>Borough</td>\n",
       "    </tr>\n",
       "    <tr>\n",
       "      <td>...</td>\n",
       "      <td>...</td>\n",
       "      <td>...</td>\n",
       "      <td>...</td>\n",
       "      <td>...</td>\n",
       "    </tr>\n",
       "    <tr>\n",
       "      <td>Woodlynne</td>\n",
       "      <td>Camden</td>\n",
       "      <td>2978</td>\n",
       "      <td>2947</td>\n",
       "      <td>Borough</td>\n",
       "    </tr>\n",
       "    <tr>\n",
       "      <td>Woodstown</td>\n",
       "      <td>Salem</td>\n",
       "      <td>3505</td>\n",
       "      <td>3454</td>\n",
       "      <td>Borough</td>\n",
       "    </tr>\n",
       "    <tr>\n",
       "      <td>Woolwich Township</td>\n",
       "      <td>Gloucester</td>\n",
       "      <td>10200</td>\n",
       "      <td>12472</td>\n",
       "      <td>Township</td>\n",
       "    </tr>\n",
       "    <tr>\n",
       "      <td>Wrightstown</td>\n",
       "      <td>Burlington</td>\n",
       "      <td>802</td>\n",
       "      <td>785</td>\n",
       "      <td>Borough</td>\n",
       "    </tr>\n",
       "    <tr>\n",
       "      <td>Wyckoff</td>\n",
       "      <td>Bergen</td>\n",
       "      <td>16635</td>\n",
       "      <td>16941</td>\n",
       "      <td>Township</td>\n",
       "    </tr>\n",
       "  </tbody>\n",
       "</table>\n",
       "<p>565 rows × 4 columns</p>\n",
       "</div>"
      ],
      "text/plain": [
       "                         County  POP2010  POP2017 MunicipalType\n",
       "Municipality                                                   \n",
       "Aberdeen               Monmouth    18157    18232      Township\n",
       "Absecon                Atlantic     8411     8283          City\n",
       "Alexandria Township   Hunterdon     4938     4805      Township\n",
       "Allamuchy                Warren     4323     4644      Township\n",
       "Allendale                Bergen     6505     6906       Borough\n",
       "...                         ...      ...      ...           ...\n",
       "Woodlynne                Camden     2978     2947       Borough\n",
       "Woodstown                 Salem     3505     3454       Borough\n",
       "Woolwich Township    Gloucester    10200    12472      Township\n",
       "Wrightstown          Burlington      802      785       Borough\n",
       "Wyckoff                  Bergen    16635    16941      Township\n",
       "\n",
       "[565 rows x 4 columns]"
      ]
     },
     "execution_count": 3,
     "metadata": {},
     "output_type": "execute_result"
    }
   ],
   "source": [
    "df = pd.read_csv (\"data.csv\", thousands=',', index_col=\"Municipality\")\n",
    "df"
   ]
  },
  {
   "cell_type": "markdown",
   "metadata": {
    "slideshow": {
     "slide_type": "slide"
    }
   },
   "source": [
    "## Exercise 1 (5 points)\n",
    "What is the name of the municipality with the most population in 2017? "
   ]
  },
  {
   "cell_type": "code",
   "execution_count": 22,
   "metadata": {
    "slideshow": {
     "slide_type": "slide"
    }
   },
   "outputs": [
    {
     "data": {
      "text/plain": [
       "'Newark'"
      ]
     },
     "execution_count": 22,
     "metadata": {},
     "output_type": "execute_result"
    }
   ],
   "source": [
    "# You should write your answer within this cell\n",
    "# write your code of exercise 1 here\n",
    "df[\"POP2017\"].idxmax()"
   ]
  },
  {
   "cell_type": "markdown",
   "metadata": {
    "slideshow": {
     "slide_type": "slide"
    }
   },
   "source": [
    "## Exercise 2  (5 points)\n",
    "How many municipalities are there in each county? The output should be a Series with the county name as the index and the number as the value.  \n",
    "#### Hint: \n",
    "Choose the column of 'County' and use **values_counts** function to calculate the frequencies of values in that column. "
   ]
  },
  {
   "cell_type": "code",
   "execution_count": 21,
   "metadata": {
    "slideshow": {
     "slide_type": "slide"
    }
   },
   "outputs": [
    {
     "data": {
      "text/plain": [
       "Bergen        70\n",
       "Monmouth      53\n",
       "Burlington    40\n",
       "Morris        39\n",
       "Camden        37\n",
       "Ocean         33\n",
       "Hunterdon     26\n",
       "Middlesex     25\n",
       "Gloucester    24\n",
       "Sussex        24\n",
       "Atlantic      23\n",
       "Warren        22\n",
       "Essex         22\n",
       "Union         21\n",
       "Somerset      21\n",
       "Cape May      16\n",
       "Passaic       16\n",
       "Salem         15\n",
       "Cumberland    14\n",
       "Mercer        12\n",
       "Hudson        12\n",
       "Name: County, dtype: int64"
      ]
     },
     "execution_count": 21,
     "metadata": {},
     "output_type": "execute_result"
    }
   ],
   "source": [
    "# You should write your answer within this cell\n",
    "# write your code of exercise 2 here\n",
    "\n",
    "df[\"County\"].value_counts()"
   ]
  },
  {
   "cell_type": "markdown",
   "metadata": {
    "slideshow": {
     "slide_type": "slide"
    }
   },
   "source": [
    "## Exercise 3 (5 points)\n",
    "Which municipality has the largest increasing in population from 2010 to 2017?\n",
    "The output should be a string. "
   ]
  },
  {
   "cell_type": "code",
   "execution_count": 23,
   "metadata": {
    "slideshow": {
     "slide_type": "slide"
    }
   },
   "outputs": [
    {
     "data": {
      "text/plain": [
       "'Jersey City'"
      ]
     },
     "execution_count": 23,
     "metadata": {},
     "output_type": "execute_result"
    }
   ],
   "source": [
    "# You should write your answer within this cell\n",
    "# write your code of exercise 3 here\n",
    "(df['POP2017']-df['POP2010']).idxmax()"
   ]
  },
  {
   "cell_type": "markdown",
   "metadata": {
    "slideshow": {
     "slide_type": "slide"
    }
   },
   "source": [
    "## Exercise 4 (5 points)\n",
    "What is the total population of the Essex county in 2017? The output should be an integer. \n",
    "#### Hint\n",
    "1. Create a new dataFrame which selects the rows that are 'Essex' in the column 'County'\n",
    "2. Choose the column 'POP2017' of the new dataFrame\n",
    "3. Apply sum method to get the sum of that column"
   ]
  },
  {
   "cell_type": "code",
   "execution_count": 2,
   "metadata": {
    "slideshow": {
     "slide_type": "slide"
    }
   },
   "outputs": [
    {
     "ename": "NameError",
     "evalue": "name 'df' is not defined",
     "output_type": "error",
     "traceback": [
      "\u001b[1;31m---------------------------------------------------------------------------\u001b[0m",
      "\u001b[1;31mNameError\u001b[0m                                 Traceback (most recent call last)",
      "\u001b[1;32m<ipython-input-2-60a0ee465b43>\u001b[0m in \u001b[0;36m<module>\u001b[1;34m\u001b[0m\n\u001b[0;32m      2\u001b[0m \u001b[1;31m# write your code of question 4 here\u001b[0m\u001b[1;33m\u001b[0m\u001b[1;33m\u001b[0m\u001b[1;33m\u001b[0m\u001b[0m\n\u001b[0;32m      3\u001b[0m \u001b[1;33m\u001b[0m\u001b[0m\n\u001b[1;32m----> 4\u001b[1;33m \u001b[0mdf\u001b[0m\u001b[1;33m[\u001b[0m\u001b[0mdf\u001b[0m\u001b[1;33m[\u001b[0m\u001b[1;34m\"MunicipalType\"\u001b[0m\u001b[1;33m]\u001b[0m \u001b[1;33m==\u001b[0m \u001b[1;34m\"Township\"\u001b[0m\u001b[1;33m]\u001b[0m \u001b[1;33m[\u001b[0m\u001b[1;34m\"POP2010\"\u001b[0m\u001b[1;33m]\u001b[0m\u001b[1;33m.\u001b[0m\u001b[0midxmax\u001b[0m\u001b[1;33m(\u001b[0m\u001b[1;33m)\u001b[0m\u001b[1;33m\u001b[0m\u001b[1;33m\u001b[0m\u001b[0m\n\u001b[0m",
      "\u001b[1;31mNameError\u001b[0m: name 'df' is not defined"
     ]
    }
   ],
   "source": [
    "# You should write your answer within this cell\n",
    "# write your code of question 4 here\n",
    "\n",
    "df[df[\"MunicipalType\"] == \"Township\"] [\"POP2010\"].idxmax()\n"
   ]
  },
  {
   "cell_type": "markdown",
   "metadata": {
    "slideshow": {
     "slide_type": "slide"
    }
   },
   "source": [
    "## Exercise 5 (5 points)\n",
    "Find the top five municipalities in population of 2017. List their county and the population of 2017. The output should be a dataFrame with two columns 'County' and 'POP2017', and the municipality as the index.\n",
    "\n",
    "#### Hint\n",
    "1. Sort **df** by the values in the column 'POP2017' in descending order. \n",
    "2. Choose the first 5 rows of the sorted **df**, and select their columns 'County' and 'POP2017'"
   ]
  },
  {
   "cell_type": "code",
   "execution_count": 88,
   "metadata": {
    "scrolled": true,
    "slideshow": {
     "slide_type": "slide"
    }
   },
   "outputs": [
    {
     "data": {
      "text/html": [
       "<div>\n",
       "<style scoped>\n",
       "    .dataframe tbody tr th:only-of-type {\n",
       "        vertical-align: middle;\n",
       "    }\n",
       "\n",
       "    .dataframe tbody tr th {\n",
       "        vertical-align: top;\n",
       "    }\n",
       "\n",
       "    .dataframe thead th {\n",
       "        text-align: right;\n",
       "    }\n",
       "</style>\n",
       "<table border=\"1\" class=\"dataframe\">\n",
       "  <thead>\n",
       "    <tr style=\"text-align: right;\">\n",
       "      <th></th>\n",
       "      <th>County</th>\n",
       "      <th>POP2017</th>\n",
       "    </tr>\n",
       "    <tr>\n",
       "      <th>Municipality</th>\n",
       "      <th></th>\n",
       "      <th></th>\n",
       "    </tr>\n",
       "  </thead>\n",
       "  <tbody>\n",
       "    <tr>\n",
       "      <td>Newark</td>\n",
       "      <td>Essex</td>\n",
       "      <td>285154</td>\n",
       "    </tr>\n",
       "    <tr>\n",
       "      <td>Jersey City</td>\n",
       "      <td>Hudson</td>\n",
       "      <td>270753</td>\n",
       "    </tr>\n",
       "    <tr>\n",
       "      <td>Paterson</td>\n",
       "      <td>Passaic</td>\n",
       "      <td>148678</td>\n",
       "    </tr>\n",
       "    <tr>\n",
       "      <td>Elizabeth</td>\n",
       "      <td>Union</td>\n",
       "      <td>130215</td>\n",
       "    </tr>\n",
       "    <tr>\n",
       "      <td>Lakewood</td>\n",
       "      <td>Ocean</td>\n",
       "      <td>102682</td>\n",
       "    </tr>\n",
       "  </tbody>\n",
       "</table>\n",
       "</div>"
      ],
      "text/plain": [
       "               County  POP2017\n",
       "Municipality                  \n",
       "Newark          Essex   285154\n",
       "Jersey City    Hudson   270753\n",
       "Paterson      Passaic   148678\n",
       "Elizabeth       Union   130215\n",
       "Lakewood        Ocean   102682"
      ]
     },
     "execution_count": 88,
     "metadata": {},
     "output_type": "execute_result"
    }
   ],
   "source": [
    "# You should write your answer within this cell\n",
    "# write your code of question 5 here\n",
    "df_big_pop = df.sort_values(by = \"POP2017\", ascending = False)[:5]\n",
    "df_big_pop[[\"County\", \"POP2017\"]]"
   ]
  },
  {
   "cell_type": "markdown",
   "metadata": {
    "slideshow": {
     "slide_type": "slide"
    }
   },
   "source": [
    "## Homework"
   ]
  },
  {
   "cell_type": "markdown",
   "metadata": {
    "slideshow": {
     "slide_type": "slide"
    }
   },
   "source": [
    "### Question 1 (6 points)\n",
    "What is the name of the township with the most population in 2010?"
   ]
  },
  {
   "cell_type": "code",
   "execution_count": 4,
   "metadata": {
    "slideshow": {
     "slide_type": "skip"
    }
   },
   "outputs": [
    {
     "data": {
      "text/plain": [
       "'Edison'"
      ]
     },
     "execution_count": 4,
     "metadata": {},
     "output_type": "execute_result"
    }
   ],
   "source": [
    "# You should write your answer within this cell\n",
    "# write your code of question 1 here\n",
    "\n",
    "df[df[\"MunicipalType\"] == \"Township\"] [\"POP2010\"].idxmax()"
   ]
  },
  {
   "cell_type": "markdown",
   "metadata": {
    "slideshow": {
     "slide_type": "slide"
    }
   },
   "source": [
    "### Question 2 (6 points)\n",
    "How many boroughs are there in each county? The output should be a Series with the county name as the index and the number as the value."
   ]
  },
  {
   "cell_type": "code",
   "execution_count": 20,
   "metadata": {
    "slideshow": {
     "slide_type": "skip"
    }
   },
   "outputs": [
    {
     "data": {
      "text/plain": [
       "Bergen        56\n",
       "Monmouth      35\n",
       "Camden        27\n",
       "Ocean         19\n",
       "Morris        16\n",
       "Middlesex     12\n",
       "Somerset      12\n",
       "Gloucester    10\n",
       "Hunterdon     10\n",
       "Passaic       10\n",
       "Sussex         8\n",
       "Cape May       7\n",
       "Union          7\n",
       "Burlington     6\n",
       "Essex          5\n",
       "Mercer         4\n",
       "Atlantic       3\n",
       "Salem          3\n",
       "Warren         2\n",
       "Cumberland     1\n",
       "Hudson         1\n",
       "Name: County, dtype: int64"
      ]
     },
     "execution_count": 20,
     "metadata": {},
     "output_type": "execute_result"
    }
   ],
   "source": [
    "# You should write your answer within this cell\n",
    "# write your code of question 2 here\n",
    "\n",
    "df2 = df[df[\"MunicipalType\"] == \"Borough\"] [\"County\"]\n",
    "df2.value_counts()"
   ]
  },
  {
   "cell_type": "markdown",
   "metadata": {
    "slideshow": {
     "slide_type": "slide"
    }
   },
   "source": [
    "### Question 3 (6 points)\n",
    "What is the total population of the Morris county in 2010? The output should be an integer. "
   ]
  },
  {
   "cell_type": "code",
   "execution_count": 29,
   "metadata": {
    "slideshow": {
     "slide_type": "skip"
    }
   },
   "outputs": [
    {
     "data": {
      "text/plain": [
       "490286"
      ]
     },
     "execution_count": 29,
     "metadata": {},
     "output_type": "execute_result"
    }
   ],
   "source": [
    "# You should write your answer within this cell\n",
    "# write your code of question 3 here\n",
    "\n",
    "df3 = df[df[\"County\"] == \"Morris\"]\n",
    "df3[\"POP2010\"].sum()"
   ]
  },
  {
   "cell_type": "markdown",
   "metadata": {
    "slideshow": {
     "slide_type": "slide"
    }
   },
   "source": [
    "### Question 4 (7 points)\n",
    "Find the five municipalities with least population of 2010. List their county, municipal type and the population of 2010. The output should be a dataFrame with three columns 'County', 'MunicipalType' and 'POP2010', and the municipality as the index."
   ]
  },
  {
   "cell_type": "code",
   "execution_count": 63,
   "metadata": {
    "slideshow": {
     "slide_type": "skip"
    }
   },
   "outputs": [
    {
     "data": {
      "text/html": [
       "<div>\n",
       "<style scoped>\n",
       "    .dataframe tbody tr th:only-of-type {\n",
       "        vertical-align: middle;\n",
       "    }\n",
       "\n",
       "    .dataframe tbody tr th {\n",
       "        vertical-align: top;\n",
       "    }\n",
       "\n",
       "    .dataframe thead th {\n",
       "        text-align: right;\n",
       "    }\n",
       "</style>\n",
       "<table border=\"1\" class=\"dataframe\">\n",
       "  <thead>\n",
       "    <tr style=\"text-align: right;\">\n",
       "      <th></th>\n",
       "      <th>POP2010</th>\n",
       "      <th>MunicipalType</th>\n",
       "    </tr>\n",
       "    <tr>\n",
       "      <th>Municipality</th>\n",
       "      <th></th>\n",
       "      <th></th>\n",
       "    </tr>\n",
       "  </thead>\n",
       "  <tbody>\n",
       "    <tr>\n",
       "      <td>Tavistock</td>\n",
       "      <td>5</td>\n",
       "      <td>Borough</td>\n",
       "    </tr>\n",
       "    <tr>\n",
       "      <td>Pine Valley</td>\n",
       "      <td>12</td>\n",
       "      <td>Borough</td>\n",
       "    </tr>\n",
       "    <tr>\n",
       "      <td>Walpack Township</td>\n",
       "      <td>16</td>\n",
       "      <td>Township</td>\n",
       "    </tr>\n",
       "    <tr>\n",
       "      <td>Teterboro</td>\n",
       "      <td>67</td>\n",
       "      <td>Borough</td>\n",
       "    </tr>\n",
       "    <tr>\n",
       "      <td>Loch Arbour</td>\n",
       "      <td>194</td>\n",
       "      <td>Village</td>\n",
       "    </tr>\n",
       "  </tbody>\n",
       "</table>\n",
       "</div>"
      ],
      "text/plain": [
       "                  POP2010 MunicipalType\n",
       "Municipality                           \n",
       "Tavistock               5       Borough\n",
       "Pine Valley            12       Borough\n",
       "Walpack Township       16      Township\n",
       "Teterboro              67       Borough\n",
       "Loch Arbour           194       Village"
      ]
     },
     "execution_count": 63,
     "metadata": {},
     "output_type": "execute_result"
    }
   ],
   "source": [
    "# You should write your answer within this cell\n",
    "# write your code of question 4 here\n",
    "df4 = df[[\"POP2010\", \"MunicipalType\"]].sort_values(by = \"POP2010\")\n",
    "df4.head()"
   ]
  }
 ],
 "metadata": {
  "kernelspec": {
   "display_name": "Python 3",
   "language": "python",
   "name": "python3"
  },
  "language_info": {
   "codemirror_mode": {
    "name": "ipython",
    "version": 3
   },
   "file_extension": ".py",
   "mimetype": "text/x-python",
   "name": "python",
   "nbconvert_exporter": "python",
   "pygments_lexer": "ipython3",
   "version": "3.7.4"
  }
 },
 "nbformat": 4,
 "nbformat_minor": 2
}
